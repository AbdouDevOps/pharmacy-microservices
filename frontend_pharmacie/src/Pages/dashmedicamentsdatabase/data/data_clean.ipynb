{
 "cells": [
  {
   "cell_type": "code",
   "execution_count": 9,
   "id": "e59a70aa",
   "metadata": {},
   "outputs": [],
   "source": [
    "import re\n",
    "import json\n",
    "\n",
    "def process_js_array(js_file_path, output_file_path):\n",
    "    with open(js_file_path, 'r', encoding='utf-8') as f:\n",
    "        js_content = f.read()\n",
    "\n",
    "    array_match = re.search(r'export\\s+const\\s+\\w+\\s*=\\s*(\\[[\\s\\S]*\\]);?', js_content)\n",
    "    if not array_match:\n",
    "        raise ValueError(\"Aucun tableau trouvé dans le fichier JS.\")\n",
    "    array_str = array_match.group(1)\n",
    "\n",
    "    array_str = re.sub(r',\\s*([\\]}])', r'\\1', array_str)\n",
    "\n",
    "    data = json.loads(array_str)\n",
    "\n",
    "    # Garder seulement les objets dont 'genre' est une seule lettre de A à Z (maj ou min)\n",
    "    data = [\n",
    "        obj for obj in data\n",
    "        if isinstance(obj.get('genre'), str) and re.fullmatch(r'[A-Za-z]', obj.get('genre'))\n",
    "    ]\n",
    "\n",
    "    data_sorted = sorted(data, key=lambda x: x.get('genre', ''))\n",
    "\n",
    "    with open(output_file_path, 'w', encoding='utf-8') as f:\n",
    "        json.dump(data_sorted, f, ensure_ascii=False, indent=2)\n",
    "\n",
    "# Exemple d'utilisation :\n",
    "process_js_array('./medicament.js', 'donnees_traite.json')\n"
   ]
  },
  {
   "cell_type": "code",
   "execution_count": 2,
   "id": "1a925ca7",
   "metadata": {},
   "outputs": [],
   "source": [
    "import json\n",
    "\n",
    "def modifier_json_avec_id_et_status(input_file, output_file):\n",
    "    with open(input_file, 'r', encoding='utf-8') as f:\n",
    "        data = json.load(f)\n",
    "\n",
    "    for idx, obj in enumerate(data, 4000):\n",
    "        obj['_id'] = str(idx)\n",
    "        fournisseur = obj.get('fournisseur')\n",
    "        if isinstance(fournisseur, dict) and 'status' in fournisseur:\n",
    "            fournisseur['fournisseurStatus'] = fournisseur.pop('status')\n",
    "\n",
    "    with open(output_file, 'w', encoding='utf-8') as f:\n",
    "        json.dump(data, f, ensure_ascii=False, indent=2)\n",
    "\n",
    "# Exemple d'utilisation :\n",
    "modifier_json_avec_id_et_status('./medicament_all_processed_modified.json', 'fichier.json')"
   ]
  },
  {
   "cell_type": "code",
   "execution_count": 2,
   "id": "c9ab77a6",
   "metadata": {},
   "outputs": [],
   "source": [
    "import re\n",
    "import json\n",
    "\n",
    "def add_id_to_js_objects(js_file_path, output_file_path):\n",
    "    with open(js_file_path, 'r', encoding='utf-8') as f:\n",
    "        js_content = f.read()\n",
    "\n",
    "    # Extraire le tableau d'objets du fichier JS\n",
    "    array_match = re.search(r'export\\s+const\\s+\\w+\\s*=\\s*(\\[[\\s\\S]*\\]);?', js_content)\n",
    "    if not array_match:\n",
    "        raise ValueError(\"Aucun tableau trouvé dans le fichier JS.\")\n",
    "    array_str = array_match.group(1)\n",
    "\n",
    "    # Corriger les virgules finales\n",
    "    array_str = re.sub(r',\\s*([\\]}])', r'\\1', array_str)\n",
    "\n",
    "    data = json.loads(array_str)\n",
    "\n",
    "    # Ajouter un id unique à chaque objet\n",
    "    for idx, obj in enumerate(data, 1):\n",
    "        obj['id'] = idx\n",
    "\n",
    "    # Sauvegarder le résultat dans un nouveau fichier\n",
    "    with open(output_file_path, 'w', encoding='utf-8') as f:\n",
    "        json.dump(data, f, ensure_ascii=False, indent=2)\n",
    "\n",
    "# Exemple d'utilisation :\n",
    "add_id_to_js_objects('./medicament.js', 'donnees_traite_avec_id.json')"
   ]
  },
  {
   "cell_type": "code",
   "execution_count": null,
   "id": "e349eb89",
   "metadata": {},
   "outputs": [
    {
     "name": "stdout",
     "output_type": "stream",
     "text": [
      "Résumé des genres :\n",
      "Inconnu ==> 5258 objet(s)\n"
     ]
    }
   ],
   "source": [
    "import json\n",
    "\n",
    "# Charger les données depuis un fichier .json\n",
    "with open(\"./\", \"r\", encoding=\"utf-8\") as f:\n",
    "    objets = json.load(f)\n",
    "\n",
    "# Compter les genres\n",
    "compteur_genres = {}\n",
    "\n",
    "for objet in objets:\n",
    "    genre = objet.get(\"genre\")\n",
    "    if not genre:\n",
    "        genre = \"Inconnu\"\n",
    "    compteur_genres[genre] = compteur_genres.get(genre, 0) + 1\n",
    "\n",
    "# Afficher les résultats\n",
    "print(\"Résumé des genres :\")\n",
    "for genre, count in sorted(compteur_genres.items()):\n",
    "    print(f\"{genre} ==> {count} objet(s)\")\n"
   ]
  }
 ],
 "metadata": {
  "kernelspec": {
   "display_name": "base",
   "language": "python",
   "name": "python3"
  },
  "language_info": {
   "codemirror_mode": {
    "name": "ipython",
    "version": 3
   },
   "file_extension": ".py",
   "mimetype": "text/x-python",
   "name": "python",
   "nbconvert_exporter": "python",
   "pygments_lexer": "ipython3",
   "version": "3.11.5"
  }
 },
 "nbformat": 4,
 "nbformat_minor": 5
}
